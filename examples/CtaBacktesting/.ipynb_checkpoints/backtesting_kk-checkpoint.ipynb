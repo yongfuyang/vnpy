{
 "cells": [
  {
   "cell_type": "code",
   "execution_count": 70,
   "metadata": {
    "collapsed": false
   },
   "outputs": [],
   "source": [
    "%matplotlib inline\n",
    "\n",
    "from vnpy.trader.app.ctaStrategy.ctaBacktesting import BacktestingEngine, OptimizationSetting, MINUTE_DB_NAME\n",
    "from vnpy.trader.app.ctaStrategy.strategy.strategyKingKeltner import KkStrategy"
   ]
  },
  {
   "cell_type": "code",
   "execution_count": 71,
   "metadata": {
    "collapsed": true
   },
   "outputs": [],
   "source": [
    "# 创建回测引擎对象\n",
    "engine = BacktestingEngine()"
   ]
  },
  {
   "cell_type": "code",
   "execution_count": 72,
   "metadata": {
    "collapsed": false
   },
   "outputs": [],
   "source": [
    "# 设置回测使用的数据\n",
    "engine.setBacktestingMode(engine.BAR_MODE)    # 设置引擎的回测模式为K线\n",
    "engine.setDatabase(MINUTE_DB_NAME, 'IF0000')  # 设置使用的历史数据库\n",
    "engine.setStartDate('20120101')               # 设置回测用的数据起始日期"
   ]
  },
  {
   "cell_type": "code",
   "execution_count": 73,
   "metadata": {
    "collapsed": true
   },
   "outputs": [],
   "source": [
    "# 配置回测引擎参数\n",
    "engine.setSlippage(0.2)     # 设置滑点为股指1跳\n",
    "engine.setRate(1.0/10000)   # 设置手续费万0.3\n",
    "engine.setSize(300)         # 设置股指合约大小 \n",
    "engine.setPriceTick(0.2)    # 设置股指最小价格变动   "
   ]
  },
  {
   "cell_type": "code",
   "execution_count": 74,
   "metadata": {
    "collapsed": true
   },
   "outputs": [],
   "source": [
    "# 在引擎中创建策略对象\n",
    "d = {'atrLength': 11}                     # 策略参数配置\n",
    "engine.initStrategy(KkStrategy, d)    # 创建策略对象"
   ]
  },
  {
   "cell_type": "code",
   "execution_count": 75,
   "metadata": {
    "collapsed": false
   },
   "outputs": [
    {
     "name": "stdout",
     "output_type": "stream",
     "text": [
      "2017-06-08 12:45:36.779000\t开始载入数据\n",
      "2017-06-08 12:45:37.385000\t载入完成，数据量：331890\n",
      "2017-06-08 12:45:37.385000\t开始回测\n",
      "2017-06-08 12:45:37.392000\t策略初始化完成\n",
      "2017-06-08 12:45:37.392000\t策略启动完成\n",
      "2017-06-08 12:45:37.392000\t开始回放数据\n",
      "2017-06-08 12:45:46.593000\t数据回放结束\n"
     ]
    }
   ],
   "source": [
    "# 运行回测\n",
    "engine.runBacktesting()          # 运行回测"
   ]
  },
  {
   "cell_type": "code",
   "execution_count": 76,
   "metadata": {
    "collapsed": false
   },
   "outputs": [
    {
     "name": "stdout",
     "output_type": "stream",
     "text": [
      "2017-06-08 12:45:46.599000\t计算回测结果\n",
      "2017-06-08 12:45:46.639000\t------------------------------\n",
      "2017-06-08 12:45:46.639000\t第一笔交易：\t2012-01-11 14:21:00\n",
      "2017-06-08 12:45:46.639000\t最后一笔交易：\t2017-03-20 09:31:00\n",
      "2017-06-08 12:45:46.639000\t总交易次数：\t2,716.0\n",
      "2017-06-08 12:45:46.639000\t总盈亏：\t1,259,460.0\n",
      "2017-06-08 12:45:46.639000\t最大回撤: \t-233,580.0\n",
      "2017-06-08 12:45:46.639000\t平均每笔盈利：\t463.72\n",
      "2017-06-08 12:45:46.639000\t平均每笔滑点：\t120.0\n",
      "2017-06-08 12:45:46.639000\t平均每笔佣金：\t0.0\n",
      "2017-06-08 12:45:46.639000\t胜率\t\t38.37%\n",
      "2017-06-08 12:45:46.639000\t盈利交易平均值\t8,661.13\n",
      "2017-06-08 12:45:46.639000\t亏损交易平均值\t-4,638.85\n",
      "2017-06-08 12:45:46.639000\t盈亏比：\t1.87\n"
     ]
    },
    {
     "data": {
      "image/png": "[encoded data removed]",
      "text/plain": [
       "<matplotlib.figure.Figure at 0x2bed1310>"
      ]
     },
     "metadata": {},
     "output_type": "display_data"
    }
   ],
   "source": [
    "# 显示回测结果\n",
    "engine.showBacktestingResult()"
   ]
  },
  {
   "cell_type": "code",
   "execution_count": 8,
   "metadata": {
    "collapsed": false
   },
   "outputs": [
    {
     "name": "stdout",
     "output_type": "stream",
     "text": [
      "{'orderID': '1', 'direction': u'\\u591a', 'gatewayName': '', 'tradeID': '1', 'exchange': '', 'symbol': '', 'volume': 0, 'tradeTime': '2012-01-11 09:18:00', 'rawData': None, 'vtTradeID': '1', 'offset': u'\\u5f00\\u4ed3', 'vtOrderID': '1', 'dt': datetime.datetime(2012, 1, 11, 9, 18), 'price': 2464.4, 'vtSymbol': ''}\n",
      "{'orderID': '2', 'direction': u'\\u7a7a', 'gatewayName': '', 'tradeID': '2', 'exchange': '', 'symbol': '', 'volume': 0, 'tradeTime': '2012-01-11 10:18:00', 'rawData': None, 'vtTradeID': '2', 'offset': u'\\u5e73\\u4ed3', 'vtOrderID': '2', 'dt': datetime.datetime(2012, 1, 11, 10, 18), 'price': 2448.8, 'vtSymbol': ''}\n",
      "{'orderID': '3', 'direction': u'\\u7a7a', 'gatewayName': '', 'tradeID': '3', 'exchange': '', 'symbol': '', 'volume': 0, 'tradeTime': '2012-01-11 10:19:00', 'rawData': None, 'vtTradeID': '3', 'offset': u'\\u5f00\\u4ed3', 'vtOrderID': '3', 'dt': datetime.datetime(2012, 1, 11, 10, 19), 'price': 2448.4, 'vtSymbol': ''}\n",
      "{'orderID': '4', 'direction': u'\\u591a', 'gatewayName': '', 'tradeID': '4', 'exchange': '', 'symbol': '', 'volume': 0, 'tradeTime': '2012-01-11 14:21:00', 'rawData': None, 'vtTradeID': '4', 'offset': u'\\u5e73\\u4ed3', 'vtOrderID': '4', 'dt': datetime.datetime(2012, 1, 11, 14, 21), 'price': 2456.2000000000003, 'vtSymbol': ''}\n",
      "{'orderID': '5', 'direction': u'\\u591a', 'gatewayName': '', 'tradeID': '5', 'exchange': '', 'symbol': '', 'volume': 0, 'tradeTime': '2012-01-11 14:22:00', 'rawData': None, 'vtTradeID': '5', 'offset': u'\\u5f00\\u4ed3', 'vtOrderID': '5', 'dt': datetime.datetime(2012, 1, 11, 14, 22), 'price': 2455.6, 'vtSymbol': ''}\n",
      "{'orderID': '6', 'direction': u'\\u7a7a', 'gatewayName': '', 'tradeID': '6', 'exchange': '', 'symbol': '', 'volume': 0, 'tradeTime': '2012-01-11 14:57:00', 'rawData': None, 'vtTradeID': '6', 'offset': u'\\u5e73\\u4ed3', 'vtOrderID': '6', 'dt': datetime.datetime(2012, 1, 11, 14, 57), 'price': 2444.0, 'vtSymbol': ''}\n",
      "{'orderID': '7', 'direction': u'\\u7a7a', 'gatewayName': '', 'tradeID': '7', 'exchange': '', 'symbol': '', 'volume': 0, 'tradeTime': '2012-01-11 14:58:00', 'rawData': None, 'vtTradeID': '7', 'offset': u'\\u5f00\\u4ed3', 'vtOrderID': '7', 'dt': datetime.datetime(2012, 1, 11, 14, 58), 'price': 2445.8, 'vtSymbol': ''}\n",
      "{'orderID': '8', 'direction': u'\\u591a', 'gatewayName': '', 'tradeID': '8', 'exchange': '', 'symbol': '', 'volume': 0, 'tradeTime': '2012-01-12 09:51:00', 'rawData': None, 'vtTradeID': '8', 'offset': u'\\u5e73\\u4ed3', 'vtOrderID': '8', 'dt': datetime.datetime(2012, 1, 12, 9, 51), 'price': 2452.8, 'vtSymbol': ''}\n",
      "{'orderID': '9', 'direction': u'\\u591a', 'gatewayName': '', 'tradeID': '9', 'exchange': '', 'symbol': '', 'volume': 0, 'tradeTime': '2012-01-12 09:52:00', 'rawData': None, 'vtTradeID': '9', 'offset': u'\\u5f00\\u4ed3', 'vtOrderID': '9', 'dt': datetime.datetime(2012, 1, 12, 9, 52), 'price': 2452.0, 'vtSymbol': ''}\n",
      "{'orderID': '10', 'direction': u'\\u7a7a', 'gatewayName': '', 'tradeID': '10', 'exchange': '', 'symbol': '', 'volume': 0, 'tradeTime': '2012-01-12 10:31:00', 'rawData': None, 'vtTradeID': '10', 'offset': u'\\u5e73\\u4ed3', 'vtOrderID': '10', 'dt': datetime.datetime(2012, 1, 12, 10, 31), 'price': 2455.2000000000003, 'vtSymbol': ''}\n"
     ]
    }
   ],
   "source": [
    "# 显示前10条成交记录\n",
    "for i in range(10):\n",
    "    print engine.tradeDict[str(i+1)].__dict__"
   ]
  },
  {
   "cell_type": "code",
   "execution_count": 11,
   "metadata": {
    "collapsed": false
   },
   "outputs": [
    {
     "name": "stdout",
     "output_type": "stream",
     "text": [
      "2017-06-02 16:13:08.744000\t------------------------------\n",
      "2017-06-02 16:13:08.744000\t优化结果：\n",
      "2017-06-02 16:13:08.744000\t{'rsiLength': 5, 'atrMa': 20, 'atrLength': 20}: 957797.864155\n",
      "2017-06-02 16:13:08.744000\t{'rsiLength': 5, 'atrMa': 25, 'atrLength': 20}: 957797.864155\n",
      "2017-06-02 16:13:08.744000\t{'rsiLength': 5, 'atrMa': 30, 'atrLength': 20}: 957797.864155\n",
      "2017-06-02 16:13:08.744000\t{'rsiLength': 5, 'atrMa': 20, 'atrLength': 18}: 883361.518728\n",
      "2017-06-02 16:13:08.744000\t{'rsiLength': 5, 'atrMa': 25, 'atrLength': 18}: 883361.518728\n",
      "2017-06-02 16:13:08.744000\t{'rsiLength': 5, 'atrMa': 30, 'atrLength': 18}: 883361.518728\n",
      "2017-06-02 16:13:08.744000\t{'rsiLength': 5, 'atrMa': 20, 'atrLength': 16}: 790520.582818\n",
      "2017-06-02 16:13:08.744000\t{'rsiLength': 5, 'atrMa': 25, 'atrLength': 16}: 790520.582818\n",
      "2017-06-02 16:13:08.744000\t{'rsiLength': 5, 'atrMa': 30, 'atrLength': 16}: 790520.582818\n",
      "2017-06-02 16:13:08.745000\t{'rsiLength': 5, 'atrMa': 20, 'atrLength': 14}: 768931.704634\n",
      "2017-06-02 16:13:08.745000\t{'rsiLength': 5, 'atrMa': 25, 'atrLength': 14}: 768931.704634\n",
      "2017-06-02 16:13:08.745000\t{'rsiLength': 5, 'atrMa': 30, 'atrLength': 14}: 768931.704634\n",
      "2017-06-02 16:13:08.745000\t{'rsiLength': 5, 'atrMa': 20, 'atrLength': 12}: 758396.03149\n",
      "2017-06-02 16:13:08.745000\t{'rsiLength': 5, 'atrMa': 25, 'atrLength': 12}: 758396.03149\n",
      "2017-06-02 16:13:08.745000\t{'rsiLength': 5, 'atrMa': 30, 'atrLength': 12}: 758396.03149\n"
     ]
    },
    {
     "ename": "NameError",
     "evalue": "name 'start' is not defined",
     "output_type": "error",
     "traceback": [
      "\u001b[1;31m---------------------------------------------------------------------------\u001b[0m",
      "\u001b[1;31mNameError\u001b[0m                                 Traceback (most recent call last)",
      "\u001b[1;32m<ipython-input-11-19c5bd4ce28f>\u001b[0m in \u001b[0;36m<module>\u001b[1;34m()\u001b[0m\n\u001b[0;32m      9\u001b[0m \u001b[1;32mimport\u001b[0m \u001b[0mtime\u001b[0m\u001b[1;33m\u001b[0m\u001b[0m\n\u001b[0;32m     10\u001b[0m \u001b[0mengine\u001b[0m\u001b[1;33m.\u001b[0m\u001b[0mrunParallelOptimization\u001b[0m\u001b[1;33m(\u001b[0m\u001b[0mAtrRsiStrategy\u001b[0m\u001b[1;33m,\u001b[0m \u001b[0msetting\u001b[0m\u001b[1;33m)\u001b[0m\u001b[1;33m\u001b[0m\u001b[0m\n\u001b[1;32m---> 11\u001b[1;33m \u001b[1;32mprint\u001b[0m \u001b[1;34mu'耗时：%s'\u001b[0m \u001b[1;33m%\u001b[0m\u001b[1;33m(\u001b[0m\u001b[0mtime\u001b[0m\u001b[1;33m.\u001b[0m\u001b[0mtime\u001b[0m\u001b[1;33m(\u001b[0m\u001b[1;33m)\u001b[0m\u001b[1;33m-\u001b[0m\u001b[0mstart\u001b[0m\u001b[1;33m)\u001b[0m\u001b[1;33m\u001b[0m\u001b[0m\n\u001b[0m",
      "\u001b[1;31mNameError\u001b[0m: name 'start' is not defined"
     ]
    }
   ],
   "source": [
    "# 优化配置\n",
    "setting = OptimizationSetting()                 # 新建一个优化任务设置对象\n",
    "setting.setOptimizeTarget('capital')            # 设置优化排序的目标是策略净盈利\n",
    "setting.addParameter('atrLength', 12, 20, 2)    # 增加第一个优化参数atrLength，起始12，结束20，步进2\n",
    "setting.addParameter('atrMa', 20, 30, 5)        # 增加第二个优化参数atrMa，起始20，结束30，步进5\n",
    "setting.addParameter('rsiLength', 5)            # 增加一个固定数值的参数\n",
    "\n",
    "# 执行多进程优化\n",
    "import time\n",
    "engine.runParallelOptimization(AtrRsiStrategy, setting)\n",
    "print u'耗时：%s' %(time.time()-start)"
   ]
  },
  {
   "cell_type": "code",
   "execution_count": null,
   "metadata": {
    "collapsed": true
   },
   "outputs": [],
   "source": []
  }
 ],
 "metadata": {
  "anaconda-cloud": {},
  "kernelspec": {
   "display_name": "Python [Root]",
   "language": "python",
   "name": "Python [Root]"
  },
  "language_info": {
   "codemirror_mode": {
    "name": "ipython",
    "version": 2
   },
   "file_extension": ".py",
   "mimetype": "text/x-python",
   "name": "python",
   "nbconvert_exporter": "python",
   "pygments_lexer": "ipython2",
   "version": "2.7.12"
  }
 },
 "nbformat": 4,
 "nbformat_minor": 0
}
